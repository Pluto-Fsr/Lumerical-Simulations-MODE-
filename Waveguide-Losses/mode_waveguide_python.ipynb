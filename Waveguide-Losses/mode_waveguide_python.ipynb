{
 "cells": [
  {
   "cell_type": "code",
   "execution_count": 2,
   "metadata": {},
   "outputs": [],
   "source": [
    "###################################\n",
    "#         INITIALISATION          #\n",
    "###################################\n",
    "\n",
    "# Importing libraries\n",
    "import importlib.util\n",
    "from collections import OrderedDict\n",
    "from re import L\n",
    "import matplotlib.pyplot as plt\n",
    "import numpy as np\n",
    "\n",
    "spec_win = importlib.util.spec_from_file_location('lumapi', 'C:\\\\Program Files\\\\Lumerical\\\\v221\\\\api\\\\python\\\\lumapi.py')\n",
    "lumapi = importlib.util.module_from_spec(spec_win) \n",
    "spec_win.loader.exec_module(lumapi)\n",
    "\n",
    "# Universal constants\n",
    "mu0 = 4*np.pi * 10**(-7) # vacuum permeability\n",
    "eps0 =  8.8541878128 * 10**(-12) # vacuum permittivity\n",
    "c = 3*10**8 # speed of light\n"
   ]
  },
  {
   "attachments": {},
   "cell_type": "markdown",
   "metadata": {},
   "source": [
    "### Run box below to run simulations (without retrieving any data from lumerical to python)"
   ]
  },
  {
   "cell_type": "code",
   "execution_count": 30,
   "metadata": {},
   "outputs": [],
   "source": [
    "with lumapi.MODE(hide=False) as mode:\n",
    "\n",
    "    ###########################\n",
    "    # Global variables & FDTD #\n",
    "    ###########################\n",
    "\n",
    "    material = mode.addmaterial(\"Dielectric\")\n",
    "    material_name = \"LiNbO3\"\n",
    "    mode.setmaterial(material, \"name\", material_name)\n",
    "    mode.setmaterial(material_name, \"refractive index\", 2.211)\n",
    "\n",
    "    base_angle = 70\n",
    "    base_width = 0.845e-6 # base width of top waveguide\n",
    "    upper_height = 0.3e-6 # height of etched part of the waveguide\n",
    "    lower_height = 0e-6 # height of non-etched part of the waveguide (note that total upper + lower height shouldn't exceed 300nm)\n",
    "    waveguide_margin = 0e-6 # width of the bottom non-etched waveguide that is in excess compared to the upper waveguide\n",
    "    x_span = 20e-6\n",
    "    gap = 0.1e-6\n",
    "    coupler_length = 0e-6\n",
    "    radius = 10e-6\n",
    "\n",
    "    material_waveguide = material_name\n",
    "    material_substrate = \"SiO2 (Glass) - Palik\"\n",
    "\n",
    "    m = 0.55191502449 # The cubic Bezier curve using this magic number in the pole points approximates the semi-circle with least error\n",
    "    \n",
    "    ###################\n",
    "    # Structure group #\n",
    "    ###################\n",
    "    \n",
    "    # This structure group allows for simultaneous changing of parameters when conducting sweeps\n",
    "    \n",
    "    mode.addstructuregroup()\n",
    "    mode.set(\"name\",\"waveguides\")\n",
    "    mode.set(\"x\", 0)\n",
    "    mode.set(\"y\", 0)\n",
    "    mode.set(\"z\",0)\n",
    "    mode.adduserprop(\"base width\",2,base_width) # 2 is for length type\n",
    "    mode.adduserprop(\"upper height\",2,upper_height)\n",
    "    mode.adduserprop(\"lower height\",2,lower_height)\n",
    "    mode.adduserprop(\"waveguide margin\",2,waveguide_margin)\n",
    "    mode.adduserprop(\"gap\",2,gap)\n",
    "    mode.adduserprop(\"radius\",2,radius)\n",
    "    mode.adduserprop(\"coupler length\",2,coupler_length)\n",
    "    setup_code = open('waveguides_structuregroup.lsf', 'r').read()\n",
    "    mode.set('script',setup_code)\n",
    "\n",
    "    x = mode.get(\"x\")\n",
    "    y = mode.get(\"y\")\n",
    "\n",
    "    #############\n",
    "    # Substrate #\n",
    "    #############\n",
    "\n",
    "    substrate = mode.addrect(x = 0, y = 0, z = -1e-6,\n",
    "                            x_span = 2*2*radius,\n",
    "                            y_span = 2*2*radius,\n",
    "                            z_span = 2.0e-6,\n",
    "                            material = material_substrate\n",
    "                            #material = \"<Object defined dielectric>\",\n",
    "                            #index = 1.4\n",
    "                            )\n",
    "    mode.addtogroup(\"::model::waveguides\")\n",
    "\n",
    "    ##############################\n",
    "    # Waveguide & Ring resonator #\n",
    "    ##############################\n",
    "\n",
    "    # Add upper bottom left portion of ring resonator\n",
    "    poles=np.asarray([[-coupler_length/2-radius, 0],\n",
    "                      [-coupler_length/2-radius,-radius*m],\n",
    "                      [-coupler_length/2-radius*m,-radius],\n",
    "                      [-coupler_length/2,-radius]])\n",
    "    ring_upper_left_bottom = mode.addwaveguide(x=x, y=y, z=lower_height + upper_height/2, \n",
    "                            base_width=base_width, base_height=upper_height, base_angle=base_angle,\n",
    "                            name = \"rulb\", poles = poles,\n",
    "                            material = material_waveguide\n",
    "                            #material = \"<Object defined dielectric>\",\n",
    "                            #index = 3.5\n",
    "    )\n",
    "    mode.addtogroup(\"::model::waveguides\")\n",
    "\n",
    "    # Add lower bottom left portion of ring resonator\n",
    "    poles=np.asarray([[-coupler_length/2-radius, 0],\n",
    "                      [-coupler_length/2-radius,-radius*m],\n",
    "                      [-coupler_length/2-radius*m,-radius],\n",
    "                      [-coupler_length/2,-radius]])\n",
    "    ring_lower_left_bottom = mode.addwaveguide(x=x, y=y, z=lower_height/2, \n",
    "                            base_width=base_width + waveguide_margin, base_height=lower_height, base_angle=90,\n",
    "                            name = \"rllb\", poles = poles,\n",
    "                            material = material_waveguide\n",
    "                            #material = \"<Object defined dielectric>\",\n",
    "                            #index = 3.5\n",
    "    )\n",
    "    mode.addtogroup(\"::model::waveguides\")\n",
    "\n",
    "    # Add upper bottom right portion of ring resonator\n",
    "    poles=np.asarray([[coupler_length/2+radius, 0],\n",
    "                      [coupler_length/2+radius,-radius*m],\n",
    "                      [coupler_length/2+radius*m,-radius],\n",
    "                      [coupler_length/2,-radius]])\n",
    "    ring_upper_right_bottom = mode.addwaveguide(x=x, y=y, z=lower_height + upper_height/2, \n",
    "                            base_width=base_width, base_height=upper_height, base_angle=base_angle,\n",
    "                            name = \"rurb\", poles = poles,\n",
    "                            material = material_waveguide\n",
    "                            #material = \"<Object defined dielectric>\",\n",
    "                            #index = 3.5\n",
    "    )\n",
    "    mode.addtogroup(\"::model::waveguides\")\n",
    "\n",
    "    # Add lower bottom right portion of ring resonator\n",
    "    poles=np.asarray([[coupler_length/2+radius, 0],\n",
    "                      [coupler_length/2+radius,-radius*m],\n",
    "                      [coupler_length/2+radius*m,-radius],\n",
    "                      [coupler_length/2,-radius]])\n",
    "    ring_lower_right_bottom = mode.addwaveguide(x=x, y=y, z=lower_height/2, \n",
    "                            base_width=base_width + waveguide_margin, base_height=lower_height, base_angle=90,\n",
    "                            name = \"rlrb\", poles = poles,\n",
    "                            material = material_waveguide\n",
    "                            #material = \"<Object defined dielectric>\",\n",
    "                            #index = 3.5\n",
    "    )\n",
    "    mode.addtogroup(\"::model::waveguides\")\n",
    "    \n",
    "    #######\n",
    "    # FDE #\n",
    "    #######\n",
    "    FDE_yspan = base_width*5\n",
    "    FDE_zspan = (lower_height + upper_height)*5\n",
    "    mesh_cells_y = 300\n",
    "    mesh_cells_z = 200\n",
    "    \n",
    "    mode.addfde()\n",
    "    mode.set(\"solver type\",1) # 1 for 2D X Normal\n",
    "    mode.set(\"x\",x)\n",
    "    mode.set(\"y\",-radius)\n",
    "    mode.set(\"y span\",FDE_yspan)\n",
    "    mode.set(\"z\",(lower_height + upper_height)/2)\n",
    "    mode.set(\"z span\",FDE_zspan)\n",
    "    mode.set(\"mesh cells y\", mesh_cells_y)\n",
    "    mode.set(\"mesh cells z\", mesh_cells_z)\n",
    "    mode.set(\"y min bc\", \"PML\")\n",
    "    mode.set(\"y max bc\", \"PML\")\n",
    "    mode.set(\"z min bc\", \"PML\")\n",
    "    mode.set(\"z max bc\", \"PML\")\n",
    "\n",
    "    mode.select(\"FDE::data\")\n",
    "    mode.addanalysisprop(\"base width\", 2, base_width) # 2 for length type\n",
    "    mode.addanalysisprop(\"gap\", 2, gap)\n",
    "    mode.addanalysisprop(\"radius\", 2, radius)\n",
    "    mode.addanalysisprop(\"lower height\", 2, lower_height)\n",
    "    mode.addanalysisprop(\"upper height\", 2, upper_height)\n",
    "    mode.addanalysisprop(\"base angle\", 0, base_angle) # 0 for number type\n",
    "    mode.addanalysisprop(\"waveguide margin\", 2, waveguide_margin)\n",
    "    mode.addanalysisprop(\"coupler length\", 2, coupler_length)\n",
    "    mode.addanalysisprop(\"mesh cells y\", 0, mesh_cells_y)\n",
    "    mode.addanalysisprop(\"mesh cells z\", 0, mesh_cells_z)\n",
    "    mode.addanalysisprop(\"FDE y span\", 2, FDE_yspan)\n",
    "    mode.addanalysisprop(\"FDE z span\", 2, FDE_zspan)\n",
    "    mode.addanalysisresult(\"ratio\")\n",
    "    mode.addanalysisresult(\"loss\")\n",
    "\n",
    "    setup_code = open('integral_ratio_analysis.lsf', 'r').read()\n",
    "    mode.set('analysis script',setup_code)\n",
    "\n",
    "    ###########################\n",
    "    # Run and save simulation #\n",
    "    ###########################\n",
    "    #mode.findmodes()\n",
    "    mode.save(\"LiNbO3 simulation 15_1.fsp\")\n",
    "\n",
    "    ###################\n",
    "    # Parameter sweep #\n",
    "    ###################\n",
    "\n",
    "    def sweep(name_of_parameter, number_of_points, start, stop):\n",
    "        # Create sweep\n",
    "        name_of_sweep = str(name_of_parameter) + \"_sweep\"\n",
    "\n",
    "        mode.addsweep(0) # 0 is for sweep\n",
    "        mode.setsweep(\"sweep\", \"name\", name_of_sweep)\n",
    "        mode.setsweep(str(name_of_parameter) + \"_sweep\", \"type\", \"Ranges\")\n",
    "        mode.setsweep(str(name_of_parameter) + \"_sweep\", \"number of points\", number_of_points)\n",
    "        \n",
    "        # Define and add the parameter to the sweep\n",
    "        para = {}\n",
    "        para[\"Name\"] = name_of_parameter\n",
    "        para[\"Parameter\"] = \"::model::waveguides::\" + str(name_of_parameter)\n",
    "        para[\"Type\"] = \"Length\"\n",
    "        para[\"Start\"] = start\n",
    "        para[\"Stop\"] = stop\n",
    "        para[\"Units\"] = \"microns\"\n",
    "        mode.addsweepparameter(name_of_sweep, para)\n",
    "\n",
    "        para_FDE = {}\n",
    "        para_FDE[\"Name\"] = str(name_of_parameter) + \" FDE\"\n",
    "        para_FDE[\"Parameter\"] = \"::model::FDE::data::\" + str(name_of_parameter)\n",
    "        para_FDE[\"Type\"] = \"Length\"\n",
    "        para_FDE[\"Start\"] = start\n",
    "        para_FDE[\"Stop\"] = stop\n",
    "        para_FDE[\"Units\"] = \"microns\"\n",
    "        mode.addsweepparameter(name_of_sweep, para_FDE)\n",
    "\n",
    "        # Define and add ratio as a sweep result\n",
    "        result_ratio = {}\n",
    "        result_ratio[\"Name\"] = \"ratio\"\n",
    "        result_ratio[\"Result\"] = \"::model::FDE::data::ratio\"\n",
    "        mode.addsweepresult(name_of_sweep, result_ratio)\n",
    "\n",
    "        # Define and add loss as a sweep result\n",
    "        result_loss = {}\n",
    "        result_loss[\"Name\"] = \"loss\"\n",
    "        result_loss[\"Result\"] = \"::model::FDE::data::loss\"\n",
    "        mode.addsweepresult(name_of_sweep, result_loss)\n",
    "\n",
    "        # Run sweep\n",
    "        mode.runsweep(name_of_sweep)\n",
    "\n",
    "    sweep(name_of_parameter = \"base width\", number_of_points = 50, start = 1.5e-6, stop = 3.5e-6)\n",
    "    #sweep(name_of_parameter = \"upper height\", number_of_points = 20, start = 0.2e-6, stop = 0.7e-6)\n",
    "\n",
    "    ##########################\n",
    "    # Parameter optimization #\n",
    "    ##########################\n",
    "    \n",
    "    def optimise(fom, max_generations, generation_size, base_width_start, base_width_stop, upper_height_start, upper_height_stop):\n",
    "        # Creating the optimisation\n",
    "        name_of_optimisation = \"loss_optimisation\"\n",
    "\n",
    "        mode.addsweep(1) # 1 is for optimisation\n",
    "        mode.setsweep(\"optimization\", \"name\", name_of_optimisation)\n",
    "        mode.setsweep(name_of_optimisation, \"Type\", \"Maximize\") if fom == \"ratio\" else mode.setsweep(name_of_optimisation, \"Type\", \"Minimize\")\n",
    "        mode.setsweep(name_of_optimisation, \"algorithm\", \"Particle Swarm\")\n",
    "        mode.setsweep(name_of_optimisation, \"maximum generations\", max_generations)\n",
    "        mode.setsweep(name_of_optimisation, \"generation size\", generation_size)\n",
    "        mode.setsweep(name_of_optimisation, \"tolerance\", 0)\n",
    "\n",
    "        # Define and add base width to the sweep\n",
    "        para = {}\n",
    "        para[\"Parameter\"] = \"::model::waveguides::base width\" \n",
    "        para[\"Type\"] = \"Length\"\n",
    "        para[\"Min\"] = base_width_start\n",
    "        para[\"Max\"] = base_width_stop\n",
    "        para[\"Units\"] = \"microns\"\n",
    "        mode.addsweepparameter(name_of_optimisation, para)\n",
    "\n",
    "        # Define and add base width to the sweep\n",
    "        para = {}\n",
    "        para[\"Parameter\"] = \"::model::waveguides::upper height\" \n",
    "        para[\"Type\"] = \"Length\"\n",
    "        para[\"Min\"] = upper_height_start\n",
    "        para[\"Max\"] = upper_height_stop\n",
    "        para[\"Units\"] = \"microns\"\n",
    "        mode.addsweepparameter(name_of_optimisation, para)\n",
    "\n",
    "        # Define and add ratio as an optimisation result\n",
    "        result_ratio = {}\n",
    "        result_ratio[\"Name\"] = \"ratio\"\n",
    "        result_ratio[\"Result\"] = \"::model::FDE::data::ratio\"\n",
    "        result_ratio[\"Optimize\"] = True if fom == \"ratio\" else False\n",
    "        mode.addsweepresult(name_of_optimisation, result_ratio)\n",
    "\n",
    "        # Define and add loss as an optimisation result\n",
    "        result_loss = {}\n",
    "        result_loss[\"Name\"] = \"loss\"\n",
    "        result_loss[\"Result\"] = \"::model::FDE::data::loss\"\n",
    "        result_loss[\"Optimize\"] = True if fom == \"loss\" else False\n",
    "        mode.addsweepresult(name_of_optimisation, result_loss)\n",
    "\n",
    "        \n",
    "        # Run optimization\n",
    "        mode.runsweep(name_of_optimisation)\n",
    "        \n",
    "    #optimise(fom = \"loss\", max_generations = 20, generation_size = 10, base_width_start = 0.5e-6, base_width_stop = 1e-6, upper_height_start = 0e-6, upper_height_stop = 0.3e-6)\n",
    "\n"
   ]
  },
  {
   "attachments": {},
   "cell_type": "markdown",
   "metadata": {},
   "source": [
    "### Run box below to plot ratio vs upper height graphs for various base widths (multiple sweep simulations)"
   ]
  },
  {
   "cell_type": "code",
   "execution_count": 61,
   "metadata": {},
   "outputs": [
    {
     "name": "stdout",
     "output_type": "stream",
     "text": [
      "base width = 750 nm\n",
      "Highest ratio = 1.860282856887364\n",
      "Highest ratio when height = 546.9387755102041 nm\n",
      " \n",
      "base width = 800 nm\n",
      "Highest ratio = 1.5282357598736815\n",
      "Highest ratio when height = 557.142857142857 nm\n",
      " \n",
      "base width = 850 nm\n",
      "Highest ratio = 2.4888793935336904\n",
      "Highest ratio when height = 587.7551020408163 nm\n",
      " \n",
      "base width = 900 nm\n",
      "Highest ratio = 3.7379015234444597\n",
      "Highest ratio when height = 628.5714285714284 nm\n",
      " \n",
      "base width = 950 nm\n",
      "Highest ratio = 5.782429915141617\n",
      "Highest ratio when height = 669.3877551020407 nm\n",
      " \n",
      "base width = 1000 nm\n",
      "Highest ratio = 8.554462115455248\n",
      "Highest ratio when height = 700.0 nm\n",
      " \n"
     ]
    },
    {
     "data": {
      "image/png": "[encoded data removed]",
      "text/plain": [
       "<Figure size 432x288 with 1 Axes>"
      ]
     },
     "metadata": {
      "needs_background": "light"
     },
     "output_type": "display_data"
    }
   ],
   "source": [
    "number_of_sweeps = 6 # change the number in range to the number of sweeps conducted\n",
    "\n",
    "ratio_all = []\n",
    "para_all = []\n",
    "base_widths = []\n",
    "\n",
    "for i in range(number_of_sweeps): \n",
    "    mode = lumapi.MODE(f\"LiNbO3 simulation 7_{i+1}.fsp\") # change name of file\n",
    "    R = mode.getsweepresult(\"upper height_sweep\",\"ratio\")\n",
    "    mode.select(\"waveguides\")\n",
    "    base_width = int(mode.get(\"base width\") * 1e9)\n",
    "    base_widths.append(base_width)\n",
    "\n",
    "    ratio = list(R['ratio'])\n",
    "    para = list(R['upper height'][0])\n",
    "    ratio_truncated = list(filter(lambda x: x > 0, ratio)) # remove data points where mode is unguided\n",
    "    para_truncated = list(filter(lambda x: ratio[para.index(x)] > 0, para)) # remove data points where mode is unguided\n",
    "\n",
    "    ratio_all.append(ratio_truncated)\n",
    "    para_all.append(para_truncated)\n",
    "\n",
    "for i in range(number_of_sweeps):\n",
    "    plt.plot(np.array(para_all[i]) * 1e9, ratio_all[i], label = f\"base width = {base_widths[i]} nm\")\n",
    "\n",
    "    highest_ratio = max(ratio_all[i])\n",
    "    para_highest_ratio = para_all[i][np.where(ratio_all[i] == highest_ratio)[0][0]] * 1e9\n",
    "    print(f\"base width = {base_widths[i]} nm\")\n",
    "    print(f\"Highest ratio = {highest_ratio}\")\n",
    "    print(f\"Highest ratio when height = {para_highest_ratio} nm\")\n",
    "    print(\" \")\n",
    "    \n",
    "plt.xlabel(\"upper height (nm)\")\n",
    "plt.ylabel(\"ratio\")\n",
    "plt.title(\"Ratio against upper height\")\n",
    "plt.legend(bbox_to_anchor=(1, 1.03))\n",
    "plt.show()"
   ]
  },
  {
   "attachments": {},
   "cell_type": "markdown",
   "metadata": {},
   "source": [
    "### Run box below to plot loss vs base widths graphs for various lower heights (multiple sweep simulations)"
   ]
  },
  {
   "cell_type": "code",
   "execution_count": 31,
   "metadata": {},
   "outputs": [
    {
     "name": "stdout",
     "output_type": "stream",
     "text": [
      "lower height = 0 nm\n",
      "Lowest loss = 146.19694680551484 dB/cm\n",
      "Lowest loss when base width = 3500.0 nm\n",
      " \n",
      "lower height = 50 nm\n",
      "Lowest loss = 145.39276707992508 dB/cm\n",
      "Lowest loss when base width = 3500.0 nm\n",
      " \n",
      "lower height = 100 nm\n",
      "Lowest loss = 142.68905196500228 dB/cm\n",
      "Lowest loss when base width = 3500.0 nm\n",
      " \n",
      "lower height = 150 nm\n",
      "Lowest loss = 133.4810951053675 dB/cm\n",
      "Lowest loss when base width = 3500.0 nm\n",
      " \n"
     ]
    },
    {
     "data": {
      "image/png": "[encoded data removed]",
      "text/plain": [
       "<Figure size 432x288 with 1 Axes>"
      ]
     },
     "metadata": {
      "needs_background": "light"
     },
     "output_type": "display_data"
    }
   ],
   "source": [
    "number_of_sweeps = 4 # change the number in range to the number of sweeps conducted\n",
    "\n",
    "loss_all = []\n",
    "para_all = []\n",
    "lower_heights = []\n",
    "\n",
    "for i in range(number_of_sweeps): \n",
    "    mode = lumapi.MODE(f\"LiNbO3 simulation 15_{i+1}.fsp\") # change name of file\n",
    "    R = mode.getsweepresult(\"base width_sweep\",\"loss\")\n",
    "    mode.select(\"waveguides\")\n",
    "    lower_height = int(mode.get(\"lower height\") * 1e9)\n",
    "    lower_heights.append(lower_height)\n",
    "\n",
    "    loss = list(R['loss'] * 1e-2)\n",
    "    para = list(R['base width'][0])\n",
    "    loss_truncated = list(filter(lambda x: x ,loss)) # remove data points where loss >= 1dB/cm\n",
    "    para_truncated = list(filter(lambda x: loss[para.index(x)], para)) # remove data points where loss >= 1dB/cm\n",
    "\n",
    "    loss_all.append(loss_truncated)\n",
    "    para_all.append(para_truncated)\n",
    "\n",
    "for i in range(number_of_sweeps):\n",
    "    plt.plot(np.array(para_all[i]) * 1e9, loss_all[i], label = f\"lower height = {lower_heights[i]} nm\")\n",
    "    plt.legend()\n",
    "\n",
    "    lowest_loss = min(loss_all[i])\n",
    "    para_lowest_loss = para_all[i][np.where(loss_all[i] == lowest_loss)[0][0]] * 1e9\n",
    "    print(f\"lower height = {lower_heights[i]} nm\")\n",
    "    print(f\"Lowest loss = {lowest_loss} dB/cm\")\n",
    "    print(f\"Lowest loss when base width = {para_lowest_loss} nm\")\n",
    "    print(\" \")\n",
    "    \n",
    "plt.xlabel(\"base width (nm)\")\n",
    "plt.ylabel(\"loss (dB/cm)\")\n",
    "plt.title(\"Loss against base width\")\n",
    "#plt.legend(bbox_to_anchor=(1, 1.03))\n",
    "plt.show()"
   ]
  },
  {
   "attachments": {},
   "cell_type": "markdown",
   "metadata": {},
   "source": [
    "### Run box below to plot ratio vs base width for a single sweep simulation"
   ]
  },
  {
   "cell_type": "code",
   "execution_count": 10,
   "metadata": {},
   "outputs": [
    {
     "name": "stdout",
     "output_type": "stream",
     "text": [
      "Highest ratio = 0.4571172302170598\n",
      "Highest ratio when width = 1500.0 nm\n",
      " \n"
     ]
    },
    {
     "data": {
      "image/png": "[encoded data removed]",
      "text/plain": [
       "<Figure size 432x288 with 1 Axes>"
      ]
     },
     "metadata": {
      "needs_background": "light"
     },
     "output_type": "display_data"
    }
   ],
   "source": [
    "mode = lumapi.MODE(f\"LiNbO3 simulation 14.fsp\")\n",
    "R = mode.getsweepresult(\"base width_sweep\",\"ratio\")\n",
    "\n",
    "ratio = list(R['ratio'])\n",
    "para = list(R['base width'][0])\n",
    "ratio_truncated = list(filter(lambda x: x > 0,ratio)) # remove data points where mode is unguided\n",
    "para_truncated = list(filter(lambda x: ratio[para.index(x)] > 0, para)) # remove data points where mode is unguided\n",
    "plt.plot(np.array(para_truncated) * 1e9, ratio_truncated)\n",
    "\n",
    "highest_ratio = max(ratio_truncated)\n",
    "para_highest_ratio = para_truncated[np.where(ratio_truncated == highest_ratio)[0][0]] * 1e9\n",
    "print(f\"Highest ratio = {highest_ratio}\")\n",
    "print(f\"Highest ratio when width = {para_highest_ratio} nm\")\n",
    "print(\" \")\n",
    "    \n",
    "plt.xlabel(\"base width (nm)\")\n",
    "plt.ylabel(\"ratio\")\n",
    "plt.title(\"Ratio against base width\")\n",
    "plt.show()"
   ]
  },
  {
   "attachments": {},
   "cell_type": "markdown",
   "metadata": {},
   "source": [
    "### Run box below to plot loss vs base width for a single sweep simulation"
   ]
  },
  {
   "cell_type": "code",
   "execution_count": 28,
   "metadata": {},
   "outputs": [
    {
     "name": "stdout",
     "output_type": "stream",
     "text": [
      "Lowest loss = 142.68905196500228 dB/cm\n",
      "Lowest loss when width = 3500.0 nm\n",
      " \n",
      "Lowest positive loss = 142.68905196500228 dB/cm\n",
      "Lowest positive loss when width = 3500.0 nm\n",
      " \n"
     ]
    },
    {
     "data": {
      "image/png": "[encoded data removed]",
      "text/plain": [
       "<Figure size 432x288 with 1 Axes>"
      ]
     },
     "metadata": {
      "needs_background": "light"
     },
     "output_type": "display_data"
    }
   ],
   "source": [
    "mode = lumapi.MODE(f\"LiNbO3 simulation 15_3.fsp\")\n",
    "R = mode.getsweepresult(\"base width_sweep\",\"loss\")\n",
    "\n",
    "loss = list(R['loss'] *1e-2)\n",
    "para = list(R['base width'][0])\n",
    "loss_truncated = list(filter(lambda x: x != 999.99,loss)) # remove data points where loss >= 1dB/cm\n",
    "para_truncated = list(filter(lambda x: abs(loss[para.index(x)]) != 999.99, para)) # remove data points where loss >= 1dB/cm\n",
    "\n",
    "plt.plot(np.array(para_truncated) * 1e9, loss_truncated)\n",
    "\n",
    "lowest_loss = min(loss_truncated)\n",
    "para_lowest_loss = para_truncated[np.where(loss_truncated == lowest_loss)[0][0]] * 1e9\n",
    "lowest_positive_loss = min(list(filter(lambda x: x>= 0, loss_truncated)))\n",
    "para_lowest_positive_loss = para_truncated[np.where(loss_truncated == lowest_positive_loss)[0][0]] * 1e9\n",
    "print(f\"Lowest loss = {lowest_loss} dB/cm\")\n",
    "print(f\"Lowest loss when width = {para_lowest_loss} nm\")\n",
    "print(\" \")\n",
    "print(f\"Lowest positive loss = {lowest_positive_loss} dB/cm\")\n",
    "print(f\"Lowest positive loss when width = {para_lowest_positive_loss} nm\")\n",
    "print(\" \")\n",
    "    \n",
    "plt.xlabel(\"base width (nm)\")\n",
    "plt.ylabel(\"loss (dB/cm)\")\n",
    "plt.title(\"Loss against base width\")\n",
    "plt.show()"
   ]
  },
  {
   "attachments": {},
   "cell_type": "markdown",
   "metadata": {},
   "source": [
    "### Run box below to plot optimisation results"
   ]
  },
  {
   "cell_type": "code",
   "execution_count": 87,
   "metadata": {},
   "outputs": [
    {
     "name": "stdout",
     "output_type": "stream",
     "text": [
      "Lowest loss = 79.96146994726656 dB/cm\n",
      "Best base width = 1000.0 nm\n",
      "Best upper height = 300.00 nm\n"
     ]
    },
    {
     "data": {
      "image/png": "[encoded data removed]",
      "text/plain": [
       "<Figure size 432x288 with 1 Axes>"
      ]
     },
     "metadata": {
      "needs_background": "light"
     },
     "output_type": "display_data"
    }
   ],
   "source": [
    "mode = lumapi.MODE(f\"LiNbO3 simulation 9.fsp\")\n",
    "best_fom = mode.getsweepresult(\"loss_optimisation\",\"best fom\")['fom'] * 1e-2\n",
    "fom = mode.getsweepresult(\"loss_optimisation\",\"fom trend\")\n",
    "params = mode.getsweepresult(\"loss_optimisation\",\"best parameters\")\n",
    "\n",
    "generation = fom['generation']\n",
    "loss = np.array(fom['fom']) * 1e-2\n",
    "plt.plot(generation, loss)\n",
    "plt.xlabel(\"generation\")\n",
    "plt.ylabel(\"loss (dB/cm)\")\n",
    "plt.title(\"Loss against generations\")\n",
    "\n",
    "best_base_width = params['parameter value'][0] * 1e9\n",
    "best_upper_height = params['parameter value'][1] * 1e9\n",
    "\n",
    "print(f\"Lowest loss = {best_fom} dB/cm\")\n",
    "print(f\"Best base width = {best_base_width} nm\")\n",
    "print(f\"Best upper height = {best_upper_height:.2f} nm\")"
   ]
  },
  {
   "attachments": {},
   "cell_type": "markdown",
   "metadata": {},
   "source": [
    "### Index matrix stuff"
   ]
  },
  {
   "cell_type": "code",
   "execution_count": 54,
   "metadata": {},
   "outputs": [
    {
     "name": "stdout",
     "output_type": "stream",
     "text": [
      "False\n",
      "(173, 73)\n",
      "(173, 1)\n",
      "(73, 1)\n",
      "(array([1.        , 1.05257136, 1.05257136, 1.10290353, 1.10290353,\n",
      "       1.21496889, 1.24636381, 1.29746197, 1.29746197, 1.34282315,\n",
      "       1.4440023 , 1.52384289, 1.59856448, 1.59856448, 1.72717854,\n",
      "       1.72717854, 1.78257448, 1.78257448, 1.87479748, 1.94929093,\n",
      "       2.01790277, 2.01790277, 2.14063074, 2.14063074, 2.17138171,\n",
      "       2.17138171, 2.211     ]), array([  32, 5291, 7335, 7194, 5442, 5215,   31, 5366, 7264, 5516,    0,\n",
      "       5290, 7193, 5441, 5662, 5589, 5365, 7263, 5287, 5289, 7192, 5440,\n",
      "       7262, 5364, 5515, 7121, 5214], dtype=int64))\n"
     ]
    }
   ],
   "source": [
    "#mode = lumapi.MODE(\"LiNbO3 simulation 7.fsp\")\n",
    "\n",
    "R = mode.getresult(\"FDE::data::material\",\"index\")\n",
    "index_x = np.squeeze(R[\"index_x\"])\n",
    "index_y = np.squeeze(R[\"index_y\"])\n",
    "index_z = np.squeeze(R[\"index_z\"])\n",
    "print(False in index_x == index_z)\n",
    "print(index_x.shape)\n",
    "print(R['y'].shape)\n",
    "print(R['z'].shape)\n",
    "\n",
    "print(np.unique(index_x,return_index= True))"
   ]
  },
  {
   "cell_type": "code",
   "execution_count": null,
   "metadata": {},
   "outputs": [],
   "source": []
  }
 ],
 "metadata": {
  "kernelspec": {
   "display_name": "base",
   "language": "python",
   "name": "python3"
  },
  "language_info": {
   "codemirror_mode": {
    "name": "ipython",
    "version": 3
   },
   "file_extension": ".py",
   "mimetype": "text/x-python",
   "name": "python",
   "nbconvert_exporter": "python",
   "pygments_lexer": "ipython3",
   "version": "3.9.12"
  },
  "orig_nbformat": 4,
  "vscode": {
   "interpreter": {
    "hash": "2043299c89c8cd0b4d1a6f5cf4529bd58e6a4e0fe3181a25e0d328c821cdc5c5"
   }
  }
 },
 "nbformat": 4,
 "nbformat_minor": 2
}
